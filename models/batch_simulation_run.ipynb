{
 "cells": [
  {
   "cell_type": "code",
   "execution_count": 1,
   "id": "patient-church",
   "metadata": {},
   "outputs": [],
   "source": [
    "import numpy as np\n",
    "from pressure_vessel_edit import PressureVessel\n",
    "import random \n",
    "import time\n",
    "import statistics"
   ]
  },
  {
   "cell_type": "code",
   "execution_count": 2,
   "id": "related-safety",
   "metadata": {},
   "outputs": [],
   "source": [
    "simulated_index=[]\n",
    "batch_start=11\n",
    "filename= 'data_'+str(batch_start)+'.csv'\n",
    "rhog_safety=15096.9      # calculted as pho=1027, g=9.8, safety factor=1.5 ( from STR excel sheet)\n",
    "threshold=0.05           # 5 percent ( Coefficient of variation= std/mean) \n",
    "window_len= 6            # window to check convergence"
   ]
  },
  {
   "cell_type": "code",
   "execution_count": 15,
   "id": "wired-dollar",
   "metadata": {},
   "outputs": [
    {
     "data": {
      "text/plain": [
       "array([[ 12.  , 100.  ,   0.1 ,   0.12]])"
      ]
     },
     "execution_count": 15,
     "metadata": {},
     "output_type": "execute_result"
    }
   ],
   "source": [
    "designset_load= np.loadtxt('./indexed_design_point.txt', delimiter = \" \")\n",
    "design_set=designset_load[batch_start:batch_start+1,:]\n",
    "design_set"
   ]
  },
  {
   "cell_type": "code",
   "execution_count": 16,
   "id": "essential-subdivision",
   "metadata": {},
   "outputs": [
    {
     "name": "stdout",
     "output_type": "stream",
     "text": [
      "Opening: pv_capsule1.FCStd\n",
      "WARNING: clean the mesh in the model to save space\n",
      "file name is: data_11.csv\n",
      "opening file to write\n",
      "field name is: ['thickness', 'radius', 'length']\n",
      "Object names: Body, Origin, X_Axis, Y_Axis, Z_Axis, XY_Plane, XZ_Plane, YZ_Plane, Sketch, Revolution, Analysis, SolverCcxTools, MaterialSolid, FEMMeshGmsh, ConstraintFixed, ConstraintPressure\n",
      "Sketch parameters:\n",
      "thickness = 0.01\n",
      "radius = 0.3371301208345706\n",
      "length = 0.1\n",
      "Body properties:\n",
      "  body_area = 3.190399 m^2\n",
      "  body_volume = 0.015949898 m^3\n",
      "  body_mass = 43.065 kg\n",
      "  outer_area = 1.640078 m^2\n",
      "  outer_volume = 0.196208618 m^3\n",
      "  inner_area = 1.550321 m^2\n",
      "  inner_volume = 0.180258720 m^3\n",
      "FEM parameters:\n",
      "  pressure = 3.01938 MPa\n",
      "  mesh_length = 0.054000000000000006 m\n",
      "Material parameters:\n",
      "  youngs_modulus = 68900.0 MPa\n",
      "  poisson_ratio = 0.33\n",
      "  tensile_strength = 276.0 MPa\n",
      "  density = 2700.0 kg/m^3\n",
      "Mesh properties:\n",
      "  node_count = 8395\n",
      "  edge_count = 194\n",
      "  face_count = 2786\n",
      "  volume_count = 4210\n",
      "FEM Results: none\n"
     ]
    }
   ],
   "source": [
    "vessel = PressureVessel('pv_capsule1.FCStd')\n",
    "vessel.set_tensile_strength(276)\n",
    "vessel.set_youngs_modulus(68900)\n",
    "csvwriter=vessel.csv_open_output(filename)\n",
    "vessel.print_info() "
   ]
  },
  {
   "cell_type": "code",
   "execution_count": 17,
   "id": "incomplete-finish",
   "metadata": {},
   "outputs": [],
   "source": [
    "convergence_data=[]\n",
    "\n",
    "def listOfTuples(l1, l2):\n",
    "    return list(map(lambda x, y:(x,y), l1, l2))\n",
    "\n",
    "def capture_datumerror(crush_pressure,thickness_d,radius_d,length_d):\n",
    "    try: \n",
    "     vessel.set_pressure(crush_pressure)\n",
    "     vessel.set('thickness', thickness_d)\n",
    "     vessel.set('radius', radius_d)\n",
    "     vessel.set('length', length_d)\n",
    "     return 0\n",
    "    except:\n",
    "     print(\"Something went wrong in setting value\")\n",
    "     return 1\n",
    "\n",
    "def check_convergence(predictions,ml,experiment_id):\n",
    "    if len(predictions)<=window_len :\n",
    "        return False\n",
    "    else: \n",
    "       windowed_prediction = predictions[-window_len:]\n",
    "       windowed_ml = ml[-window_len:]\n",
    "       print('windowed result is:',windowed_prediction)\n",
    "       std_w=statistics.stdev(windowed_prediction)\n",
    "       mean_w=statistics.mean(windowed_prediction)\n",
    "       if (std_w/mean_w)>threshold:\n",
    "          return False\n",
    "       else:\n",
    "          convergence_data.append(experiment_id)\n",
    "          convergence_data.append(listOfTuples(windowed_prediction,windowed_ml))\n",
    "          return True"
   ]
  },
  {
   "cell_type": "code",
   "execution_count": 18,
   "id": "empty-preliminary",
   "metadata": {},
   "outputs": [
    {
     "name": "stdout",
     "output_type": "stream",
     "text": [
      "---> depth is: 100.0 length is: 0.1 thickness is: 0.12 radius is: 0.3018885453562702\n",
      "ml is: 0.098\n",
      "Running GMSH mesher ... 1756 nodes, 84 edges, 588 faces, 868 volumes\n",
      "Running FEM analysis ... vonMises stress: 2.86 MPa\n",
      "itr is: 0 ,k is: 2 ,ml is: 0.098\n",
      "predicted vonmises is: [2.861710087297104]\n",
      "ml is: 0.096\n",
      "Running GMSH mesher ... 1760 nodes, 84 edges, 590 faces, 869 volumes\n",
      "Running FEM analysis ... vonMises stress: 2.86 MPa\n",
      "itr is: 0 ,k is: 2 ,ml is: 0.096\n",
      "predicted vonmises is: [2.861710087297104, 2.861885051665423]\n",
      "ml is: 0.094\n",
      "Running GMSH mesher ... 2180 nodes, 92 edges, 728 faces, 1082 volumes\n",
      "Running FEM analysis ... vonMises stress: 2.88 MPa\n",
      "itr is: 0 ,k is: 2 ,ml is: 0.094\n",
      "predicted vonmises is: [2.861710087297104, 2.861885051665423, 2.876118664692227]\n",
      "ml is: 0.092\n",
      "Running GMSH mesher ... 2180 nodes, 92 edges, 728 faces, 1082 volumes\n",
      "Running FEM analysis ... vonMises stress: 2.88 MPa\n",
      "itr is: 0 ,k is: 2 ,ml is: 0.092\n",
      "predicted vonmises is: [2.861710087297104, 2.861885051665423, 2.876118664692227, 2.876118664692227]\n",
      "ml is: 0.09\n",
      "Running GMSH mesher ... 2244 nodes, 94 edges, 754 faces, 1107 volumes\n",
      "Running FEM analysis ... vonMises stress: 2.89 MPa\n",
      "itr is: 0 ,k is: 2 ,ml is: 0.09\n",
      "predicted vonmises is: [2.861710087297104, 2.861885051665423, 2.876118664692227, 2.876118664692227, 2.8894926653895263]\n",
      "ml is: 0.08800000000000001\n",
      "Running GMSH mesher ... 2244 nodes, 94 edges, 754 faces, 1107 volumes\n",
      "Running FEM analysis ... vonMises stress: 2.89 MPa\n",
      "itr is: 0 ,k is: 2 ,ml is: 0.08800000000000001\n",
      "predicted vonmises is: [2.861710087297104, 2.861885051665423, 2.876118664692227, 2.876118664692227, 2.8894926653895263, 2.8894926653895263]\n",
      "ml is: 0.08600000000000001\n",
      "Running GMSH mesher ... 2420 nodes, 98 edges, 806 faces, 1201 volumes\n",
      "Running FEM analysis ... vonMises stress: 2.83 MPa\n",
      "itr is: 0 ,k is: 2 ,ml is: 0.08600000000000001\n",
      "predicted vonmises is: [2.861710087297104, 2.861885051665423, 2.876118664692227, 2.876118664692227, 2.8894926653895263, 2.8894926653895263, 2.834114902713544]\n",
      "windowed result is: [2.861885051665423, 2.876118664692227, 2.876118664692227, 2.8894926653895263, 2.8894926653895263, 2.834114902713544]\n",
      "self index is: 12.0\n",
      "row is: {'thickness': 0.12, 'radius': 0.3018885453562702, 'length': 0.1, 'exp_index': 12.0, 'pressure': 1.50969, 'mesh_length': 0.08600000000000001, 'youngs_modulus': 68900.0, 'poisson_ratio': 0.33, 'tensile_strength': 276.0, 'density': 2700.0, 'body_area': 1.8649623869876428, 'body_volume': 0.1082786284823233, 'body_mass': 292.3522969022729, 'outer_area': 1.3349396383347139, 'outer_volume': 0.1438781407773964, 'inner_area': 0.530022748652929, 'inner_volume': 0.03559951229507312, 'node_count': 2420, 'edge_count': 98, 'face_count': 806, 'volume_count': 1201, 'vonmises_stress': 2.834114902713544, 'tresca_stress': 1.5972036708072788, 'max_displacement': 9.124354122115476e-06, 'has_failed': False}\n"
     ]
    }
   ],
   "source": [
    "skipped=[]\n",
    "start=time.time()\n",
    "#mesh_options=[0.08,0.04,0.035,0.030,0.025,0.020,0.01,0.008,0.004,0.002,0.001]\n",
    "mesh_options=np.arange(.002,0.1,.002)[::-1]\n",
    "for i in range(design_set.shape[0]):\n",
    "     experiment_id=design_set[i][0]\n",
    "     depth= design_set[i][1]\n",
    "     length_d= design_set[i][2]\n",
    "     thickness_d= design_set[i][3]\n",
    "     radius_d= thickness_d+ np.random.rand()*0.4+0.1  \n",
    "      \n",
    "     print('---> depth is:',depth,'length is:',length_d,'thickness is:',thickness_d, 'radius is:',radius_d )\n",
    "    \n",
    "        \n",
    "     crush_pressure= rhog_safety*depth*0.000001\n",
    "   \n",
    "     de=capture_datumerror(crush_pressure,thickness_d,radius_d,length_d)\n",
    "     vessel.set_exp_index(experiment_id)\n",
    "     predicted_vonmises=[]; mesh_lengths=[]\n",
    "     if de==0:\n",
    "      k=0 \n",
    "      for j in range(len(mesh_options)):\n",
    "        ml= mesh_options[j]\n",
    "        print('ml is:',ml)\n",
    "        vessel.set('mesh_length', ml)\n",
    "        k=vessel.run_analysis()\n",
    "        print('itr is:',i,',k is:',k, ',ml is:',ml)\n",
    "        if k==2:  \n",
    "            mesh_lengths.append(ml)\n",
    "            predicted_vonmises.append(vessel.get_vonmises_stress())\n",
    "            print('predicted vonmises is:',predicted_vonmises)\n",
    "            convergence=check_convergence(predicted_vonmises,mesh_lengths,experiment_id)\n",
    "            if convergence==True: \n",
    "              break  \n",
    "      if k==2 :\n",
    "       vessel.csv_write_row(csvwriter)\n",
    "       simulated_index.append(batch_start+i)\n",
    "      else:\n",
    "       skipped.append(batch_start+i)\n",
    "     else: \n",
    "       skipped.append(batch_start+i)\n",
    "     with open (\"convergence.txt\",\"w\")as fp: \n",
    "       fp.write(str(convergence_data))\n",
    "vessel.csv_close_output(csvwriter)\n",
    "\n"
   ]
  },
  {
   "cell_type": "code",
   "execution_count": null,
   "id": "collected-puppy",
   "metadata": {},
   "outputs": [],
   "source": []
  }
 ],
 "metadata": {
  "kernelspec": {
   "display_name": "Python 3",
   "language": "python",
   "name": "python3"
  },
  "language_info": {
   "codemirror_mode": {
    "name": "ipython",
    "version": 3
   },
   "file_extension": ".py",
   "mimetype": "text/x-python",
   "name": "python",
   "nbconvert_exporter": "python",
   "pygments_lexer": "ipython3",
   "version": "3.9.5"
  }
 },
 "nbformat": 4,
 "nbformat_minor": 5
}
